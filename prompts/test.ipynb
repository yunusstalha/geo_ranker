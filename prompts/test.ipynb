{
 "cells": [
  {
   "cell_type": "code",
   "execution_count": 3,
   "metadata": {},
   "outputs": [
    {
     "name": "stdout",
     "output_type": "stream",
     "text": [
      "Original string:  'A B'\n",
      "Encoded IDs:      [32, 425]\n",
      "Decoded string:   'A B'\n",
      "\n",
      "String: 'Yes'\n",
      "Encoded IDs:   [9454]\n",
      "Decoded text:  'Yes'\n",
      "Token-by-token:\n",
      "  9454 -> 'Yes'\n",
      "\n",
      "String: ' Yes'\n",
      "Encoded IDs:   [7414]\n",
      "Decoded text:  ' Yes'\n",
      "Token-by-token:\n",
      "  7414 -> ' Yes'\n"
     ]
    }
   ],
   "source": [
    "from transformers import AutoTokenizer\n",
    "\n",
    "# Load whichever tokenizer you are actually using\n",
    "model_name = \"Qwen/Qwen2.5-VL-7B-Instruct\"\n",
    "tokenizer = AutoTokenizer.from_pretrained(model_name)\n",
    "\n",
    "example_str = \"A B\"\n",
    "encoded_ids = tokenizer.encode(example_str, add_special_tokens=False)\n",
    "decoded_str = tokenizer.decode(encoded_ids)\n",
    "\n",
    "print(\"Original string: \", repr(example_str))\n",
    "print(\"Encoded IDs:     \", encoded_ids)\n",
    "print(\"Decoded string:  \", repr(decoded_str))\n",
    "\n",
    "# Now compare with or without a leading space, e.g.,\n",
    "for test_str in [\"Yes\", \" Yes\"]:\n",
    "    ids = tokenizer.encode(test_str, add_special_tokens=False)\n",
    "    print(f\"\\nString: {repr(test_str)}\")\n",
    "    print(\"Encoded IDs:  \", ids)\n",
    "    print(\"Decoded text: \", repr(tokenizer.decode(ids)))\n",
    "    print(\"Token-by-token:\")\n",
    "    for t_id in ids:\n",
    "        print(f\"  {t_id} -> {repr(tokenizer.decode([t_id]))}\")\n"
   ]
  },
  {
   "cell_type": "code",
   "execution_count": null,
   "metadata": {},
   "outputs": [],
   "source": []
  }
 ],
 "metadata": {
  "kernelspec": {
   "display_name": "geo_ranker",
   "language": "python",
   "name": "python3"
  },
  "language_info": {
   "codemirror_mode": {
    "name": "ipython",
    "version": 3
   },
   "file_extension": ".py",
   "mimetype": "text/x-python",
   "name": "python",
   "nbconvert_exporter": "python",
   "pygments_lexer": "ipython3",
   "version": "3.11.12"
  }
 },
 "nbformat": 4,
 "nbformat_minor": 2
}
